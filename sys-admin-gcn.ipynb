{
 "cells": [
  {
   "cell_type": "code",
   "execution_count": 1,
   "id": "19532f11",
   "metadata": {},
   "outputs": [
    {
     "name": "stderr",
     "output_type": "stream",
     "text": [
      "/home/victorialena/anaconda3/envs/pyg/lib/python3.10/site-packages/tqdm/auto.py:22: TqdmWarning: IProgress not found. Please update jupyter and ipywidgets. See https://ipywidgets.readthedocs.io/en/stable/user_install.html\n",
      "  from .autonotebook import tqdm as notebook_tqdm\n"
     ]
    }
   ],
   "source": [
    "import pdb\n",
    "\n",
    "import numpy as np\n",
    "from numpy.random import rand, choice\n",
    "\n",
    "import torch\n",
    "import torch.nn as nn\n",
    "from torch.nn import Linear, ReLU\n",
    "\n",
    "import torch.nn.functional as F\n",
    "from torch.optim import Adam\n",
    "\n",
    "import torch_geometric\n",
    "from torch_geometric.data import Data\n",
    "from torch_geometric.nn import Sequential, GCNConv, SAGEConv\n",
    "from torch_geometric.utils import to_dense_adj, to_networkx\n",
    "from torch_geometric.utils.random import erdos_renyi_graph\n",
    "\n",
    "import networkx as nx\n",
    "import gym\n",
    "from gym.spaces import MultiDiscrete\n",
    "\n",
    "from collections import namedtuple\n",
    "from copy import copy, deepcopy\n",
    "from typing import Optional\n",
    "from enum import Enum, IntEnum\n",
    "\n",
    "from env.sys_admin import *\n",
    "\n",
    "from utils.path_collector import MdpPathCollector\n",
    "from utils.std_policies import *\n",
    "from utils.pyg_rollout_functions import rollout\n",
    "from utils.replay_buffer import anyReplayBuffer"
   ]
  },
  {
   "cell_type": "code",
   "execution_count": 2,
   "id": "4cac7e83",
   "metadata": {},
   "outputs": [],
   "source": [
    "seed = 1\n",
    "n_nodes, n_jobs = 6, 60\n",
    "n_epoch = 10\n",
    "n_iter = 20\n",
    "learning_rate = 5E-3\n",
    "replay_buffer_size = 10000\n",
    "gamma = 0.95\n",
    "batch_size = 128\n",
    "n_samples = 250\n",
    "max_path_len = 100\n",
    "layer_sz = 32\n",
    "\n",
    "torch.random.manual_seed(seed)\n",
    "np.random.seed(seed)"
   ]
  },
  {
   "cell_type": "code",
   "execution_count": 3,
   "id": "f4308117",
   "metadata": {},
   "outputs": [
    {
     "data": {
      "image/png": "[encoded data removed]",
      "text/plain": [
       "<Figure size 432x288 with 1 Axes>"
      ]
     },
     "metadata": {},
     "output_type": "display_data"
    }
   ],
   "source": [
    "env = sysAdminProbe(nnodes=n_nodes, njobs=n_jobs)\n",
    "x = env.reset(topology='star')\n",
    "env.render()"
   ]
  },
  {
   "cell_type": "markdown",
   "id": "9192e9a4",
   "metadata": {},
   "source": [
    "```python\n",
    "a = env.aspace.sample()\n",
    "data, r, _, _ = env.step(a)\n",
    "```"
   ]
  },
  {
   "cell_type": "code",
   "execution_count": 4,
   "id": "7c12ac12",
   "metadata": {},
   "outputs": [],
   "source": [
    "in_channels, out_channels = len(status)+len(load), len(action)"
   ]
  },
  {
   "cell_type": "code",
   "execution_count": 5,
   "id": "e37761fb",
   "metadata": {},
   "outputs": [],
   "source": [
    "device = 'cpu' #torch.cuda.current_device() if torch.cuda.is_available() else 'cpu'"
   ]
  },
  {
   "cell_type": "code",
   "execution_count": 6,
   "id": "2f8010b5",
   "metadata": {},
   "outputs": [],
   "source": [
    "class sysAdminModel(nn.Module):\n",
    "    \n",
    "    def __init__(self, c_in, c_out, c_hidden=16, **kwargs):\n",
    "        \n",
    "        super().__init__()\n",
    "        \n",
    "        self.model = Sequential('x, edge_index', [\n",
    "            (SAGEConv(c_in, c_hidden), 'x, edge_index -> x'),\n",
    "            ReLU(inplace=True),\n",
    "            Linear(c_hidden, c_out),\n",
    "        ])\n",
    "\n",
    "        self._device = kwargs['device'] if 'device' in kwargs.keys() else 'cpu'\n",
    "\n",
    "    def forward(self, x, edge_index):\n",
    "        return self.model(x.to(self._device), edge_index.to(self._device))\n",
    "    \n",
    "    def to(self, device):\n",
    "        super().to(device)\n",
    "        self._device = device"
   ]
  },
  {
   "cell_type": "code",
   "execution_count": 7,
   "id": "d8fe8b34",
   "metadata": {},
   "outputs": [],
   "source": [
    "qf = sysAdminModel(in_channels, out_channels, layer_sz)\n",
    "target_qf = sysAdminModel(in_channels, out_channels, layer_sz)"
   ]
  },
  {
   "cell_type": "code",
   "execution_count": 8,
   "id": "ebb6dce3",
   "metadata": {},
   "outputs": [],
   "source": [
    "qf_criterion = nn.MSELoss()\n",
    "eval_policy = argmaxDiscretePolicy(qf, preprocessing=format_data)\n",
    "expl_policy = epsilonGreedyPolicy(qf, env.aspace, eps=0.1, preprocessing=format_data)"
   ]
  },
  {
   "cell_type": "code",
   "execution_count": 36,
   "id": "b0fb63e6",
   "metadata": {},
   "outputs": [
    {
     "data": {
      "text/plain": [
       "tensor([0, 0, 1, 1, 0, 0])"
      ]
     },
     "execution_count": 36,
     "metadata": {},
     "output_type": "execute_result"
    }
   ],
   "source": [
    "torch.tensor(env.aspace.sample())"
   ]
  },
  {
   "cell_type": "markdown",
   "id": "d5d69537",
   "metadata": {},
   "source": [
    "```python\n",
    "expl_policy = sysRolloutPolicy(env.aspace)\n",
    "path_collector = MdpPathCollector(env, eval_policy)\n",
    "paths = path_collector.collect_new_paths(10, 40, False)\n",
    "\n",
    "for s, a, r, t in zip(paths[0]['observations'], paths[0]['actions'], \n",
    "                      paths[0]['rewards'], paths[0]['terminals']):\n",
    "    print(s.x)\n",
    "    print(a)\n",
    "    print(r)\n",
    "    print(t)\n",
    "```"
   ]
  },
  {
   "cell_type": "code",
   "execution_count": 27,
   "id": "45b71e48",
   "metadata": {},
   "outputs": [],
   "source": [
    "def avg_traj_r(paths):\n",
    "    return np.mean([np.sum(p['rewards']) for p in paths])\n",
    "\n",
    "def cumulative_discounted_sum(vec, gamma=.9):\n",
    "    n = len(vec)\n",
    "    discounted_vec = (gamma**torch.arange(n))*torch.tensor(vec)\n",
    "    return discounted_vec.sum().item()\n",
    "\n",
    "def avg_cumulative_discounted_r(paths):\n",
    "    return np.mean([cumulative_discounted_sum(p['rewards'], gamma) for p in paths])"
   ]
  },
  {
   "cell_type": "markdown",
   "id": "972c2aab",
   "metadata": {},
   "source": [
    "```python\n",
    "example_policy = doNothingPolicy(action.noop) #rebootWhenDead() #randomPolicy(env.aspace)\n",
    "path_collector = MdpPathCollector(env, example_policy, rollout)\n",
    "paths = path_collector.collect_new_paths(100, 40, False)\n",
    "expected_default = avg_cumulative_discounted_r(paths)\n",
    "print(\"Expected reward:\", expected_default)\n",
    "\n",
    "print_path(paths[1])\n",
    "```"
   ]
  },
  {
   "cell_type": "code",
   "execution_count": null,
   "id": "bc5ac891",
   "metadata": {},
   "outputs": [],
   "source": [
    "expl_path_collector = MdpPathCollector(env, expl_policy, rollout)\n",
    "eval_path_collector = MdpPathCollector(env, eval_policy, rollout)\n",
    "replay_buffer = anyReplayBuffer(replay_buffer_size)\n",
    "optimizer = Adam(qf.parameters(), lr=learning_rate)"
   ]
  },
  {
   "cell_type": "markdown",
   "id": "7316460b",
   "metadata": {},
   "source": [
    "#### Reinforcement Learning"
   ]
  },
  {
   "cell_type": "code",
   "execution_count": null,
   "id": "d36943b3",
   "metadata": {},
   "outputs": [],
   "source": [
    "loss = []\n",
    "avg_r_train = []\n",
    "avg_r_test = []\n",
    "\n",
    "for i in range(n_epoch):\n",
    "    qf.train(False)\n",
    "    paths = eval_path_collector.collect_new_paths(n_samples//4, max_path_len, False)\n",
    "    avg_r_test.append(avg_cumulative_discounted_r(paths))\n",
    "    \n",
    "    paths = expl_path_collector.collect_new_paths(n_samples, max_path_len, False)\n",
    "    avg_r_train.append(avg_cumulative_discounted_r(paths))\n",
    "    replay_buffer.add_paths(paths)\n",
    "    \n",
    "    qf.train(True)    \n",
    "    for _ in range(n_iter):\n",
    "        batch = replay_buffer.random_batch(batch_size)\n",
    "        _, counts = batch.batch.unique(return_counts=True)\n",
    "        rewards = batch.r.repeat_interleave(counts)\n",
    "        terminals = batch.t.repeat_interleave(counts).to(torch.float)\n",
    "        actions = batch.a\n",
    "\n",
    "        obs = batch.x\n",
    "        next_obs = batch.next_s\n",
    "        \n",
    "        out = target_qf(format_input(batch.next_s), batch.edge_index)\n",
    "        \n",
    "        target_q_values = out.max(-1).values\n",
    "        y_target = rewards + (1. - terminals) * gamma * target_q_values\n",
    "        out = qf(format_input(batch.x), batch.edge_index)\n",
    "                               \n",
    "        actions_one_hot = F.one_hot(actions.to(torch.int64), num_classes=len(action))\n",
    "        y_pred = torch.sum(out * actions_one_hot, dim=-1)\n",
    "        qf_loss = qf_criterion(y_pred, y_target)\n",
    "        \n",
    "        loss.append(qf_loss.item())\n",
    "        \n",
    "        optimizer.zero_grad()\n",
    "        qf_loss.backward()\n",
    "        optimizer.step()\n",
    "        \n",
    "    target_qf.load_state_dict(deepcopy(qf.state_dict()))\n",
    "    print(\"iter \", i+1, \" -> loss: \", np.mean(loss[-n_iter:]),\n",
    "          \", rewards: (train) \", np.mean(avg_r_train[-n_iter:]),\n",
    "          \", (test) \", avg_r_test[-1])"
   ]
  },
  {
   "cell_type": "markdown",
   "id": "403e8807",
   "metadata": {},
   "source": [
    "#### plot"
   ]
  },
  {
   "cell_type": "markdown",
   "id": "58236a6c",
   "metadata": {},
   "source": [
    "```python\n",
    "import matplotlib.pyplot as plt\n",
    "\n",
    "plt.plot(np.arange(n_iter*n_epoch), [expected_default]*(n_iter*n_epoch), label = \"do nothing\", color='lightgray')\n",
    "plt.plot(np.arange(n_iter*n_epoch), [expected_heuristic]*(n_iter*n_epoch), label = \"reboot when dead\",  color='darkgray')\n",
    "\n",
    "plt.plot(np.arange(n_iter*n_epoch), avg_r_train, label = \"avg R (train)\")\n",
    "plt.plot(np.arange(n_iter, n_iter*n_epoch+1, step=n_iter), avg_r_test, label = \"avg R (test)\")\n",
    "plt.legend()\n",
    "# plt.legend(bbox_to_anchor=(1.05, 1.0), loc='upper left')\n",
    "\n",
    "plt.savefig('training_log.png', dpi=300)\n",
    "```"
   ]
  },
  {
   "cell_type": "markdown",
   "id": "f21ca57a",
   "metadata": {},
   "source": [
    "```python\n",
    "# ---------------------- Record Traj\n",
    "\n",
    "import networkx as nx\n",
    "from torch_geometric.utils import to_networkx\n",
    "\n",
    "import matplotlib.pyplot as plt\n",
    "from matplotlib import animation\n",
    "from matplotlib.animation import FuncAnimation, PillowWriter \n",
    "\n",
    "def simple_update(num, obs, ax, colors=np.array(['green', 'yellow', 'red']), labels=np.array(['I', 'L', 'S'])):\n",
    "    ax.clear()\n",
    "    \n",
    "    s = obs[num]\n",
    "    g = to_networkx(s, to_undirected=True)\n",
    "    color_map = colors[s.x.numpy()[:, 0]]\n",
    "    label_map = labels[s.x.numpy()[:, 1]]    \n",
    "    nx.draw_circular(g, \n",
    "                     node_color=color_map,\n",
    "                     labels={i: l for i, l in enumerate(label_map)}, \n",
    "                     ax=ax)\n",
    "    \n",
    "    ax.set_title(\"Frame {}\".format(num))\n",
    "\n",
    "def simple_animation(obs, name='animation_1'):\n",
    "    \"Record an example trajectory.\"\n",
    "    \n",
    "    fig, ax = plt.subplots(figsize=(6,4))\n",
    "    \n",
    "    ani = animation.FuncAnimation(fig, simple_update, frames=len(obs), fargs=(obs, ax))\n",
    "    ani.save(name+'.gif', writer='imagemagick', savefig_kwargs={'facecolor':'white'}, fps=1)\n",
    "\n",
    "    plt.show()\n",
    "    \n",
    "simple_animation(paths[0]['observations'])\n",
    "```"
   ]
  },
  {
   "cell_type": "markdown",
   "id": "f6e1f7ac",
   "metadata": {},
   "source": [
    "### Notes\n",
    "1. Instead of a GCN use a normal GNN - SAGEGraph\n",
    "2. add self loops - default on GCNs\n",
    "3. try over fitting a linear layer - done"
   ]
  },
  {
   "cell_type": "code",
   "execution_count": null,
   "id": "8bcb3e50",
   "metadata": {},
   "outputs": [],
   "source": []
  },
  {
   "cell_type": "code",
   "execution_count": null,
   "id": "a88d0a07",
   "metadata": {},
   "outputs": [],
   "source": []
  }
 ],
 "metadata": {
  "kernelspec": {
   "display_name": "pyg",
   "language": "python",
   "name": "pyg"
  },
  "language_info": {
   "codemirror_mode": {
    "name": "ipython",
    "version": 3
   },
   "file_extension": ".py",
   "mimetype": "text/x-python",
   "name": "python",
   "nbconvert_exporter": "python",
   "pygments_lexer": "ipython3",
   "version": "3.10.4"
  }
 },
 "nbformat": 4,
 "nbformat_minor": 5
}
