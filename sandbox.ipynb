{
 "cells": [
  {
   "cell_type": "code",
   "execution_count": 1,
   "id": "1f33be37",
   "metadata": {},
   "outputs": [],
   "source": [
    "import sys\n",
    "sys.path.append('/home/victorialena/rlkit')\n",
    "\n",
    "import pdb\n",
    "import matplotlib.pyplot as plt\n",
    "import rlkit\n",
    "import torch\n",
    "import torch.nn as nn\n",
    "import torch.nn.functional as F\n",
    "import torch_geometric\n",
    "\n",
    "from argparse import ArgumentParser\n",
    "from matplotlib import animation\n",
    "from matplotlib.animation import FuncAnimation, PillowWriter \n",
    "from torch.optim import Adam\n",
    "from torch_geometric.data import Data\n",
    "\n",
    "from actor.drone_discrete import *\n",
    "from env.drone_delivery import *\n",
    "from path_collector import MdpPathCollector\n",
    "from policies import argmaxDiscretePolicy, epsilonGreedyPolicy\n",
    "from replay_buffer import anyReplayBuffer"
   ]
  },
  {
   "cell_type": "code",
   "execution_count": 2,
   "id": "e114c058",
   "metadata": {},
   "outputs": [],
   "source": [
    "# ------------------ Helpers\n",
    "\n",
    "def mean_reward_per_traj(paths):\n",
    "    return np.mean([torch.vstack(p['rewards']).sum().item() for p in paths])\n",
    "\n",
    "def mean_reward(paths):\n",
    "    return np.hstack([torch.vstack(p['rewards']).sum(1).numpy() for p in paths]).mean()\n",
    "\n",
    "def max_reward_per_traj(paths):\n",
    "    return np.mean([torch.vstack(p['rewards']).sum(1).max().item() for p in paths])\n",
    "\n",
    "def get_success_rate(paths):\n",
    "    success = [p['terminals'][-1].item() for p in paths]\n",
    "    return sum(success)/len(paths)\n",
    "\n",
    "# def max_reward(paths):\n",
    "#     return np.hstack([torch.vstack(p['rewards']).sum(1).numpy() for p in paths]).max()\n",
    "\n",
    "def printSettings(args):\n",
    "    print(args, '\\n')\n",
    "    \n",
    "def make_plot(avg_r_train, avg_r_test, n_iter, n_epoch, baselines, saveas=\"\"):\n",
    "    for b, col, name in zip(baselines, \n",
    "                            ['lightgray', 'darkgray', 'gray'], \n",
    "                            ['random', 'closest', 'pre-assigned']):\n",
    "        plt.plot(np.arange(n_iter*n_epoch), [b]*(n_iter*n_epoch), label=name, color=col)\n",
    "\n",
    "    plt.plot(np.arange(n_iter*n_epoch), avg_r_train, label = \"avg R (train)\")\n",
    "    plt.plot(np.arange(n_iter, n_iter*n_epoch+1, step=n_iter), avg_r_test, label = \"avg R (test)\")\n",
    "    plt.legend()\n",
    "    \n",
    "    if saveas:\n",
    "        plt.savefig(\"figs/drone_delivery/\"+saveas+\".png\", dpi=300)\n",
    "    else:\n",
    "        plt.show()\n",
    "\n",
    "def simple_animation(env, obs, saveas='animation_1'):\n",
    "    fig, ax = plt.subplots(figsize=(6,4))    \n",
    "    \n",
    "    def env_simple_update(num, obs, ax):\n",
    "        ax.clear()\n",
    "        env.render(obs[num])\n",
    "        ax.set_title(\"Frame {}\".format(num))\n",
    "    \n",
    "    ani = animation.FuncAnimation(fig, env_simple_update, frames=len(obs), fargs=(obs, ax))\n",
    "    ani.save(\"figs/drone_delivery/\"+saveas+'.gif', writer='imagemagick', savefig_kwargs={'facecolor':'white'}, fps=1)"
   ]
  },
  {
   "cell_type": "code",
   "execution_count": 3,
   "id": "3d494317",
   "metadata": {},
   "outputs": [],
   "source": [
    "class Args():\n",
    "    def __init__(self):\n",
    "        self.seed = 0\n",
    "        self.c_hidden = [64, 16]\n",
    "        self.n_linear = 1\n",
    "        self.eps = 0.1 #0.5\n",
    "        self.sim_annealing_fac = 1.0 #.9\n",
    "        self.replay_buffer_cap = 10000\n",
    "        self.n_samples = 64\n",
    "        self.prioritized_replay = True\n",
    "        self.learning_rate = 1E-3\n",
    "        self.n_epoch = 100 #15\n",
    "        self.n_iter = 128 #256\n",
    "        self.batch_size = 64\n",
    "        self.gamma = 0.9\n",
    "        self.dropout = 0.0\n",
    "\n",
    "        self.graph_type = \"sparse\"\n",
    "        self.load_from = \"gat08v30\"\n",
    "        self.save_to = \"\"\n",
    "        self.plot = True\n",
    "        self.plot_name = \"\"\n",
    "        self.max_sample_distance = 1\n",
    "\n",
    "        self.maze_size = 10 #5\n",
    "        self.ndrones = 4 #1\n",
    "        self.ngoals = 2 #1"
   ]
  },
  {
   "cell_type": "code",
   "execution_count": 4,
   "id": "757f217c",
   "metadata": {},
   "outputs": [],
   "source": [
    "def print_path(p):\n",
    "    for s, a, r, t in zip(p['observations'], p['actions'], p['rewards'], p['terminals']):\n",
    "        print(s.x)\n",
    "        print(a)\n",
    "        print(r)\n",
    "        print(t)\n",
    "        print('\\n')"
   ]
  },
  {
   "cell_type": "code",
   "execution_count": 5,
   "id": "9e072111",
   "metadata": {},
   "outputs": [],
   "source": [
    "def print_random_path(p):\n",
    "    idx = np.random.randint(len(p))\n",
    "    print_path(p[idx])"
   ]
  },
  {
   "cell_type": "code",
   "execution_count": 6,
   "id": "6433b32a",
   "metadata": {},
   "outputs": [],
   "source": [
    "args = Args()\n",
    "device = 'cpu' #torch.cuda.current_device() if torch.cuda.is_available() else 'cpu'\n",
    "\n",
    "env = droneDelivery(args, device=device)\n",
    "x = env.reset()"
   ]
  },
  {
   "cell_type": "code",
   "execution_count": 7,
   "id": "1b4b1f08",
   "metadata": {},
   "outputs": [
    {
     "data": {
      "text/plain": [
       "''"
      ]
     },
     "execution_count": 7,
     "metadata": {},
     "output_type": "execute_result"
    }
   ],
   "source": [
    "in_channels, out_channels = env.get_channels()\n",
    "\n",
    "torch.manual_seed(args.seed)\n",
    "np.random.seed(args.seed)\n",
    "env.seed(args.seed)\n",
    "\n",
    "qf = droneDeliveryModel(in_channels, out_channels, args.c_hidden, n_linear=args.n_linear, \n",
    "                        bounds=env.get_size(), dropout=args.dropout)\n",
    "qf.load_state_dict(torch.load(\"chkpt/\"+args.load_from+\".pt\"))\n",
    ";"
   ]
  },
  {
   "cell_type": "code",
   "execution_count": 8,
   "id": "9426f67e",
   "metadata": {},
   "outputs": [],
   "source": [
    "qf.train(False)\n",
    "eval_policy = argmaxDiscretePolicy(qf)"
   ]
  },
  {
   "cell_type": "code",
   "execution_count": 9,
   "id": "320056b0",
   "metadata": {},
   "outputs": [],
   "source": [
    "eval_path_collector = MdpPathCollector(env, eval_policy)\n",
    "paths = eval_path_collector.collect_new_paths(128, 14, False)"
   ]
  },
  {
   "cell_type": "code",
   "execution_count": 10,
   "id": "b199c6ea",
   "metadata": {},
   "outputs": [
    {
     "data": {
      "text/plain": [
       "0.8125"
      ]
     },
     "execution_count": 10,
     "metadata": {},
     "output_type": "execute_result"
    }
   ],
   "source": [
    "get_success_rate(paths)"
   ]
  },
  {
   "cell_type": "code",
   "execution_count": 11,
   "id": "002f2384",
   "metadata": {},
   "outputs": [
    {
     "name": "stdout",
     "output_type": "stream",
     "text": [
      "tensor([[ 7.,  3., -1.,  1.],\n",
      "        [ 5.,  3., -1.,  1.],\n",
      "        [ 6.,  4., -1.,  1.],\n",
      "        [ 5.,  1., -1.,  1.],\n",
      "        [ 4.,  1.,  1.,  1.],\n",
      "        [ 6.,  3.,  1.,  3.]])\n",
      "tensor([1, 3, 3, 1])\n",
      "tensor([-0.0025, -0.0025, -0.0025, -0.0025])\n",
      "tensor(False)\n",
      "\n",
      "\n",
      "tensor([[ 6.,  3., -1.,  1.],\n",
      "        [ 5.,  2., -1.,  1.],\n",
      "        [ 6.,  3., -1.,  1.],\n",
      "        [ 4.,  1., -1.,  1.],\n",
      "        [ 4.,  1.,  1.,  1.],\n",
      "        [ 6.,  3.,  1.,  3.]])\n",
      "tensor([4, 3, 4, 4])\n",
      "tensor([ 0.9500, -0.0050,  0.9500,  1.0000])\n",
      "tensor(False)\n",
      "\n",
      "\n",
      "tensor([[ 6.,  3., -1.,  0.],\n",
      "        [ 5.,  1., -1.,  1.],\n",
      "        [ 6.,  3., -1.,  0.],\n",
      "        [ 4.,  1., -1.,  0.],\n",
      "        [ 4.,  1.,  1.,  0.],\n",
      "        [ 6.,  3.,  1.,  1.]])\n",
      "tensor([4, 0, 4, 4])\n",
      "tensor([-0.0500, -0.0025, -0.0500,  0.0000])\n",
      "tensor(False)\n",
      "\n",
      "\n",
      "tensor([[ 6.,  3., -1.,  0.],\n",
      "        [ 6.,  1., -1.,  1.],\n",
      "        [ 6.,  3., -1.,  0.],\n",
      "        [ 4.,  1., -1.,  0.],\n",
      "        [ 4.,  1.,  1.,  0.],\n",
      "        [ 6.,  3.,  1.,  1.]])\n",
      "tensor([4, 2, 4, 4])\n",
      "tensor([-0.0500, -0.0050, -0.0500,  0.0000])\n",
      "tensor(False)\n",
      "\n",
      "\n",
      "tensor([[ 6.,  3., -1.,  0.],\n",
      "        [ 6.,  2., -1.,  1.],\n",
      "        [ 6.,  3., -1.,  0.],\n",
      "        [ 4.,  1., -1.,  0.],\n",
      "        [ 4.,  1.,  1.,  0.],\n",
      "        [ 6.,  3.,  1.,  1.]])\n",
      "tensor([4, 2, 4, 4])\n",
      "tensor([-0.0500, -0.0025, -0.0500,  0.0000])\n",
      "tensor(False)\n",
      "\n",
      "\n",
      "tensor([[ 6.,  3., -1.,  0.],\n",
      "        [ 6.,  3., -1.,  1.],\n",
      "        [ 6.,  3., -1.,  0.],\n",
      "        [ 4.,  1., -1.,  0.],\n",
      "        [ 4.,  1.,  1.,  0.],\n",
      "        [ 6.,  3.,  1.,  1.]])\n",
      "tensor([4, 4, 4, 4])\n",
      "tensor([-0.1000,  0.9000, -0.1000,  0.0000])\n",
      "tensor(False)\n",
      "\n",
      "\n",
      "tensor([[ 6.,  3., -1.,  0.],\n",
      "        [ 6.,  3., -1.,  0.],\n",
      "        [ 6.,  3., -1.,  0.],\n",
      "        [ 4.,  1., -1.,  0.],\n",
      "        [ 4.,  1.,  1.,  0.],\n",
      "        [ 6.,  3.,  1.,  0.]])\n",
      "tensor([1, 1, 1, 1])\n",
      "tensor([-0.1000, -0.1000, -0.1000,  0.0000])\n",
      "tensor(True)\n",
      "\n",
      "\n"
     ]
    }
   ],
   "source": [
    "print_path(paths[0])"
   ]
  },
  {
   "cell_type": "markdown",
   "id": "ba9af124",
   "metadata": {},
   "source": [
    "#### record sample traj"
   ]
  },
  {
   "cell_type": "code",
   "execution_count": 17,
   "id": "3a6a3d3f",
   "metadata": {},
   "outputs": [],
   "source": [
    "from argparse import ArgumentParser\n",
    "from matplotlib import animation\n",
    "from matplotlib.animation import FuncAnimation, PillowWriter "
   ]
  },
  {
   "cell_type": "code",
   "execution_count": 36,
   "id": "cade5c52",
   "metadata": {},
   "outputs": [],
   "source": [
    "def simple_animation(obs, lim, saveas='sample_trajectory'):\n",
    "    fig, ax = plt.subplots(figsize=(6,6)) #,axis=equal)\n",
    "    # image_path = get_sample_data('ada.png')\n",
    "    \n",
    "    def env_simple_update(num, obs, ax):\n",
    "        ax.clear()\n",
    "        for agent in obs[num].x.flip(0):\n",
    "            color = \"g\" if agent[-2] > 0 else (\"y\" if agent[-1] == 0 else 'tab:orange')\n",
    "            plt.plot(agent[0], agent[1], color=color, marker='o', markersize=15*abs(agent[-1]))\n",
    "        ax.set_title(\"Frame {}\".format(num))\n",
    "        ax.set_xlim(lim)\n",
    "        ax.set_ylim(lim)\n",
    "    \n",
    "    ani = animation.FuncAnimation(fig, env_simple_update, frames=len(obs), fargs=(obs, ax))\n",
    "    ani.save(\"figs/collision_avoidance/\"+saveas+'.gif', writer='imagemagick', savefig_kwargs={'facecolor':'white'}, fps=1)"
   ]
  },
  {
   "cell_type": "code",
   "execution_count": 37,
   "id": "eb9ef8d2",
   "metadata": {},
   "outputs": [
    {
     "name": "stderr",
     "output_type": "stream",
     "text": [
      "MovieWriter imagemagick unavailable; using Pillow instead.\n"
     ]
    },
    {
     "data": {
      "image/png": "[encoded data removed]",
      "text/plain": [
       "<Figure size 432x432 with 1 Axes>"
      ]
     },
     "metadata": {
      "needs_background": "light"
     },
     "output_type": "display_data"
    }
   ],
   "source": [
    "simple_animation(paths[0]['observations'], [0, 8])"
   ]
  },
  {
   "cell_type": "code",
   "execution_count": null,
   "id": "ee46b58a",
   "metadata": {},
   "outputs": [],
   "source": [
    "# python run_drone_delivery.py --ndrones 2 --ngoals 2 --gamma 0.9 --maze_size 8 --n_epoch 500 --graph_type sparse --c_hidden 64 16 --n_linear 1 --plot_name gat08v22_2 --load_from gat08v22 --save_to gat08v22_2"
   ]
  }
 ],
 "metadata": {
  "kernelspec": {
   "display_name": "rlpyt",
   "language": "python",
   "name": "rlpyt"
  },
  "language_info": {
   "codemirror_mode": {
    "name": "ipython",
    "version": 3
   },
   "file_extension": ".py",
   "mimetype": "text/x-python",
   "name": "python",
   "nbconvert_exporter": "python",
   "pygments_lexer": "ipython3",
   "version": "3.7.11"
  }
 },
 "nbformat": 4,
 "nbformat_minor": 5
}
