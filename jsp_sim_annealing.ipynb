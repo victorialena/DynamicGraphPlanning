{
 "cells": [
  {
   "cell_type": "code",
   "execution_count": 1,
   "id": "34977847",
   "metadata": {},
   "outputs": [],
   "source": [
    "%config Completer.use_jedi = False"
   ]
  },
  {
   "cell_type": "code",
   "execution_count": 2,
   "id": "2f42812d",
   "metadata": {},
   "outputs": [
    {
     "name": "stderr",
     "output_type": "stream",
     "text": [
      "/home/victorialena/anaconda3/envs/rlpyt/lib/python3.7/site-packages/matplotlib/__init__.py:107: DeprecationWarning: Using or importing the ABCs from 'collections' instead of from 'collections.abc' is deprecated since Python 3.3,and in 3.9 it will stop working\n",
      "  from collections import MutableMapping\n",
      "/home/victorialena/anaconda3/envs/rlpyt/lib/python3.7/site-packages/matplotlib/colors.py:53: DeprecationWarning: Using or importing the ABCs from 'collections' instead of from 'collections.abc' is deprecated since Python 3.3,and in 3.9 it will stop working\n",
      "  from collections import Sized\n"
     ]
    }
   ],
   "source": [
    "# import collections\n",
    "import numpy as np\n",
    "import pdb\n",
    "import torch\n",
    "import dgl\n",
    "\n",
    "from copy import copy, deepcopy\n",
    "from env.job_shop import get_random_queues, count_q_length, get_random_intial_state\n",
    "from utils.jsp_sim_annealing import *"
   ]
  },
  {
   "cell_type": "markdown",
   "id": "a386196b",
   "metadata": {},
   "source": [
    "```python\n",
    "scoring_fn() = env.rollout()\n",
    "get_neighbors() = ...\n",
    "```\n",
    "\n",
    "Options for `get_neighbors()`:\n",
    "- evaluating every neighboring action, i.e., move job i to position j at worker k (|A| = w*n^2) \n",
    "- eval every speudo neigboring state, i.e., move job i to end of queue for worker j (|A| = (n-1)*w)"
   ]
  },
  {
   "cell_type": "markdown",
   "id": "1ef851af",
   "metadata": {},
   "source": [
    "```python \n",
    "annealing_schedule = get_annealing_schedule(0.05, 10)\n",
    "init_s = get_random_intial_state(nw, nj)\n",
    "_, score, nstep = simulated_annealing(init_s, scoring_fn, 100, .1, annealing_schedule)\n",
    "```"
   ]
  },
  {
   "cell_type": "code",
   "execution_count": 5,
   "id": "1ab484ef",
   "metadata": {},
   "outputs": [],
   "source": [
    "def run(nw, nj, p, n, temp, iters=20, max_step=100):\n",
    "    scores = []\n",
    "    steps = []\n",
    "    for _ in range(iters):\n",
    "        annealing_schedule = get_annealing_schedule(p, n)\n",
    "        init_s = get_random_intial_state(nw, nj)\n",
    "        _, score, nstep = simulated_annealing(init_s, scoring_fn, max_step, temp, annealing_schedule)\n",
    "        scores.append(score)\n",
    "        steps.append(nstep)\n",
    "    return np.mean(scores), np.mean(steps)"
   ]
  },
  {
   "cell_type": "markdown",
   "id": "06a4118f",
   "metadata": {},
   "source": [
    "```python\n",
    "nw, nj = 2, 10\n",
    "%prun run(nw, nj, 0.05, 5, 0.1)\n",
    "```"
   ]
  },
  {
   "cell_type": "code",
   "execution_count": null,
   "id": "bcf7cb15",
   "metadata": {},
   "outputs": [],
   "source": [
    "nw, nj = 2, 5\n",
    "\n",
    "for p in [0.05, 0.1]:\n",
    "    for n in [5, 10, 20]:\n",
    "        for temp in [0.1, 0.2]:\n",
    "            score, steps = run(nw, nj, p, n, temp, iters=20)\n",
    "            print(\"p=\", p, \"| n=\", n, \"| temp=\", temp, \" => avg score=\", scores, \", avg steps=\", steps)"
   ]
  },
  {
   "cell_type": "code",
   "execution_count": null,
   "id": "f0396b1d",
   "metadata": {},
   "outputs": [],
   "source": [
    "nw, nj = 2, 10\n",
    "\n",
    "for p in [0.05, 0.1]:\n",
    "    for n in [5, 10, 20]:\n",
    "        for temp in [0.1, 0.2]:\n",
    "            score, steps = run(nw, nj, p, n, temp, iters=20)\n",
    "            print(\"p=\", p, \"| n=\", n, \"| temp=\", temp, \" => avg score=\", scores, \", avg steps=\", steps)"
   ]
  },
  {
   "cell_type": "code",
   "execution_count": null,
   "id": "ca263ce2",
   "metadata": {},
   "outputs": [],
   "source": [
    "nw, nj = 10, 25\n",
    "\n",
    "for p in [0.05, 0.1]:\n",
    "    for n in [5, 10, 20]:\n",
    "        for temp in [0.1, 0.2]:\n",
    "            score, steps = run(nw, nj, p, n, temp, iters=20)\n",
    "            print(\"p=\", p, \"| n=\", n, \"| temp=\", temp, \" => avg score=\", scores, \", avg steps=\", steps)"
   ]
  }
 ],
 "metadata": {
  "kernelspec": {
   "display_name": "Python [conda env:rlpyt] *",
   "language": "python",
   "name": "conda-env-rlpyt-py"
  },
  "language_info": {
   "codemirror_mode": {
    "name": "ipython",
    "version": 3
   },
   "file_extension": ".py",
   "mimetype": "text/x-python",
   "name": "python",
   "nbconvert_exporter": "python",
   "pygments_lexer": "ipython3",
   "version": "3.7.11"
  }
 },
 "nbformat": 4,
 "nbformat_minor": 5
}
